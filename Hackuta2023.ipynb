{
  "cells": [
    {
      "cell_type": "code",
      "execution_count": 10,
      "metadata": {
        "id": "eZLfIsRbw8NB"
      },
      "outputs": [],
      "source": [
        "import streamlit as st\n",
        "import pandas as pd\n",
        "import matplotlib.pyplot as plt"
      ]
    },
    {
      "cell_type": "code",
      "execution_count": 11,
      "metadata": {},
      "outputs": [
        {
          "data": {
            "text/plain": [
              "DeltaGenerator()"
            ]
          },
          "execution_count": 11,
          "metadata": {},
          "output_type": "execute_result"
        }
      ],
      "source": [
        "st.title('Hackuta 2023')"
      ]
    },
    {
      "cell_type": "code",
      "execution_count": 12,
      "metadata": {
        "colab": {
          "base_uri": "https://localhost:8080/"
        },
        "id": "wwg5AY_Fxqp0",
        "outputId": "d1984fca-4656-4a47-a0f5-9646ee0adb5e"
      },
      "outputs": [
        {
          "name": "stdout",
          "output_type": "stream",
          "text": [
            "Cloning into 'utd-grades'...\n",
            "remote: Enumerating objects: 2834, done.\u001b[K\n",
            "remote: Counting objects: 100% (128/128), done.\u001b[K\n",
            "remote: Compressing objects: 100% (109/109), done.\u001b[K\n",
            "Receiving objects:   1% (29/2834)\r"
          ]
        }
      ],
      "source": [
        "! git clone https://github.com/HackUTA-23/utd-grades"
      ]
    },
    {
      "cell_type": "code",
      "execution_count": null,
      "metadata": {},
      "outputs": [
        {
          "name": "stdout",
          "output_type": "stream",
          "text": [
            "/Users/amitkulkarni/Documents/GradeDistribution/utd-grades\n"
          ]
        }
      ],
      "source": [
        "cd utd-grades"
      ]
    },
    {
      "cell_type": "code",
      "execution_count": null,
      "metadata": {
        "colab": {
          "base_uri": "https://localhost:8080/"
        },
        "id": "Bk8OZUb0yd7R",
        "outputId": "7221a82d-3374-4bb2-9469-e492f1f121b3"
      },
      "outputs": [
        {
          "name": "stdout",
          "output_type": "stream",
          "text": [
            "/Users/amitkulkarni/Documents/GradeDistribution/utd-grades/raw_data\n"
          ]
        }
      ],
      "source": [
        "cd raw_data/"
      ]
    },
    {
      "cell_type": "code",
      "execution_count": null,
      "metadata": {
        "colab": {
          "base_uri": "https://localhost:8080/"
        },
        "id": "_bncQ2GlyfN4",
        "outputId": "fefe3ae8-f4b6-4a7e-cd7d-ecd7fc7621f9"
      },
      "outputs": [
        {
          "name": "stdout",
          "output_type": "stream",
          "text": [
            "Fall 2017.csv    Fall 2022.csv    Spring 2022.csv  Summer 2021.csv\n",
            "Fall 2018.csv    Spring 2018.csv  Spring 2023.csv  Summer 2022.csv\n",
            "Fall 2019.csv    Spring 2019.csv  Summer 2018.csv\n",
            "Fall 2020.csv    Spring 2020.csv  Summer 2019.csv\n",
            "Fall 2021.csv    Spring 2021.csv  Summer 2020.csv\n"
          ]
        }
      ],
      "source": [
        "ls"
      ]
    },
    {
      "cell_type": "code",
      "execution_count": null,
      "metadata": {
        "id": "PlqITBLjygCb"
      },
      "outputs": [
        {
          "name": "stdout",
          "output_type": "stream",
          "text": [
            "     Subject Catalog Nbr Section    A+     A   A-    B+     B   B-   C+  ...  \\\n",
            "0       ACCT        2301     001  17.0   7.0  3.0  14.0   7.0  3.0  2.0  ...   \n",
            "1       ACCT        2301     002  10.0   7.0  5.0   6.0   4.0  4.0  4.0  ...   \n",
            "2       ACCT        2301     003   8.0  11.0  8.0   4.0  11.0  5.0  4.0  ...   \n",
            "3       ACCT        2301     004   4.0  10.0  7.0  17.0   5.0  3.0  6.0  ...   \n",
            "4       ACCT        2301     005  21.0  11.0  4.0  13.0   3.0  3.0  2.0  ...   \n",
            "...      ...         ...     ...   ...   ...  ...   ...   ...  ...  ...  ...   \n",
            "2937    VPAS        6336     501   NaN   6.0  1.0   NaN   1.0  NaN  1.0  ...   \n",
            "2938    VPAS        6339     501   NaN  16.0  1.0   NaN   NaN  NaN  NaN  ...   \n",
            "2939    VPAS        6391     001   NaN   9.0  1.0   NaN   NaN  NaN  NaN  ...   \n",
            "2940    VPAS        6394     001   NaN  11.0  NaN   NaN   NaN  NaN  NaN  ...   \n",
            "2941    VPAS        7360     001   NaN   9.0  4.0   NaN   NaN  NaN  NaN  ...   \n",
            "\n",
            "      CR  NC   I  W         Instructor 1         Instructor 2  Instructor 3  \\\n",
            "0    NaN NaN NaN  0           Gu, Dongdi                  NaN           NaN   \n",
            "1    NaN NaN NaN  3           Gu, Dongdi                  NaN           NaN   \n",
            "2    NaN NaN NaN  1          Zhang, Yang                  NaN           NaN   \n",
            "3    NaN NaN NaN  1    Parupati, Sunil K                  NaN           NaN   \n",
            "4    NaN NaN NaN  2     Files, Rebecca L  Quinto, Christine D           NaN   \n",
            "...   ..  ..  .. ..                  ...                  ...           ...   \n",
            "2937 NaN NaN NaN  1  Waligore, Marilyn A                  NaN           NaN   \n",
            "2938 NaN NaN NaN  1         Pomara, John                  NaN           NaN   \n",
            "2939 NaN NaN NaN  0    Randall, Steven V                  NaN           NaN   \n",
            "2940 NaN NaN NaN  1         Kim, Laura H                  NaN           NaN   \n",
            "2941 NaN NaN NaN  0     Warren, Shilyh J                  NaN           NaN   \n",
            "\n",
            "      Instructor 4  Instructor 5  Instructor 6  \n",
            "0              NaN           NaN           NaN  \n",
            "1              NaN           NaN           NaN  \n",
            "2              NaN           NaN           NaN  \n",
            "3              NaN           NaN           NaN  \n",
            "4              NaN           NaN           NaN  \n",
            "...            ...           ...           ...  \n",
            "2937           NaN           NaN           NaN  \n",
            "2938           NaN           NaN           NaN  \n",
            "2939           NaN           NaN           NaN  \n",
            "2940           NaN           NaN           NaN  \n",
            "2941           NaN           NaN           NaN  \n",
            "\n",
            "[2942 rows x 27 columns]\n"
          ]
        }
      ],
      "source": [
        "df = pd.read_csv('Fall 2022.csv')\n",
        "print(df)"
      ]
    },
    {
      "cell_type": "code",
      "execution_count": null,
      "metadata": {},
      "outputs": [
        {
          "data": {
            "text/html": [
              "<div>\n",
              "<style scoped>\n",
              "    .dataframe tbody tr th:only-of-type {\n",
              "        vertical-align: middle;\n",
              "    }\n",
              "\n",
              "    .dataframe tbody tr th {\n",
              "        vertical-align: top;\n",
              "    }\n",
              "\n",
              "    .dataframe thead th {\n",
              "        text-align: right;\n",
              "    }\n",
              "</style>\n",
              "<table border=\"1\" class=\"dataframe\">\n",
              "  <thead>\n",
              "    <tr style=\"text-align: right;\">\n",
              "      <th></th>\n",
              "      <th>A+</th>\n",
              "      <th>A</th>\n",
              "      <th>A-</th>\n",
              "      <th>B+</th>\n",
              "      <th>B</th>\n",
              "      <th>B-</th>\n",
              "      <th>C+</th>\n",
              "      <th>C</th>\n",
              "      <th>C-</th>\n",
              "      <th>D+</th>\n",
              "      <th>D</th>\n",
              "      <th>D-</th>\n",
              "      <th>F</th>\n",
              "    </tr>\n",
              "    <tr>\n",
              "      <th>course</th>\n",
              "      <th></th>\n",
              "      <th></th>\n",
              "      <th></th>\n",
              "      <th></th>\n",
              "      <th></th>\n",
              "      <th></th>\n",
              "      <th></th>\n",
              "      <th></th>\n",
              "      <th></th>\n",
              "      <th></th>\n",
              "      <th></th>\n",
              "      <th></th>\n",
              "      <th></th>\n",
              "    </tr>\n",
              "  </thead>\n",
              "  <tbody>\n",
              "    <tr>\n",
              "      <th>ACCT 2301 001</th>\n",
              "      <td>17.0</td>\n",
              "      <td>7.0</td>\n",
              "      <td>3.0</td>\n",
              "      <td>14.0</td>\n",
              "      <td>7.0</td>\n",
              "      <td>3.0</td>\n",
              "      <td>2.0</td>\n",
              "      <td>4.0</td>\n",
              "      <td>1.0</td>\n",
              "      <td>1.0</td>\n",
              "      <td>NaN</td>\n",
              "      <td>NaN</td>\n",
              "      <td>1.0</td>\n",
              "    </tr>\n",
              "    <tr>\n",
              "      <th>ACCT 2301 002</th>\n",
              "      <td>10.0</td>\n",
              "      <td>7.0</td>\n",
              "      <td>5.0</td>\n",
              "      <td>6.0</td>\n",
              "      <td>4.0</td>\n",
              "      <td>4.0</td>\n",
              "      <td>4.0</td>\n",
              "      <td>1.0</td>\n",
              "      <td>7.0</td>\n",
              "      <td>3.0</td>\n",
              "      <td>NaN</td>\n",
              "      <td>NaN</td>\n",
              "      <td>5.0</td>\n",
              "    </tr>\n",
              "    <tr>\n",
              "      <th>ACCT 2301 003</th>\n",
              "      <td>8.0</td>\n",
              "      <td>11.0</td>\n",
              "      <td>8.0</td>\n",
              "      <td>4.0</td>\n",
              "      <td>11.0</td>\n",
              "      <td>5.0</td>\n",
              "      <td>4.0</td>\n",
              "      <td>4.0</td>\n",
              "      <td>NaN</td>\n",
              "      <td>NaN</td>\n",
              "      <td>NaN</td>\n",
              "      <td>NaN</td>\n",
              "      <td>3.0</td>\n",
              "    </tr>\n",
              "    <tr>\n",
              "      <th>ACCT 2301 004</th>\n",
              "      <td>4.0</td>\n",
              "      <td>10.0</td>\n",
              "      <td>7.0</td>\n",
              "      <td>17.0</td>\n",
              "      <td>5.0</td>\n",
              "      <td>3.0</td>\n",
              "      <td>6.0</td>\n",
              "      <td>4.0</td>\n",
              "      <td>1.0</td>\n",
              "      <td>NaN</td>\n",
              "      <td>NaN</td>\n",
              "      <td>1.0</td>\n",
              "      <td>1.0</td>\n",
              "    </tr>\n",
              "    <tr>\n",
              "      <th>ACCT 2301 005</th>\n",
              "      <td>21.0</td>\n",
              "      <td>11.0</td>\n",
              "      <td>4.0</td>\n",
              "      <td>13.0</td>\n",
              "      <td>3.0</td>\n",
              "      <td>3.0</td>\n",
              "      <td>2.0</td>\n",
              "      <td>3.0</td>\n",
              "      <td>1.0</td>\n",
              "      <td>1.0</td>\n",
              "      <td>NaN</td>\n",
              "      <td>1.0</td>\n",
              "      <td>NaN</td>\n",
              "    </tr>\n",
              "    <tr>\n",
              "      <th>...</th>\n",
              "      <td>...</td>\n",
              "      <td>...</td>\n",
              "      <td>...</td>\n",
              "      <td>...</td>\n",
              "      <td>...</td>\n",
              "      <td>...</td>\n",
              "      <td>...</td>\n",
              "      <td>...</td>\n",
              "      <td>...</td>\n",
              "      <td>...</td>\n",
              "      <td>...</td>\n",
              "      <td>...</td>\n",
              "      <td>...</td>\n",
              "    </tr>\n",
              "    <tr>\n",
              "      <th>VPAS 6336 501</th>\n",
              "      <td>NaN</td>\n",
              "      <td>6.0</td>\n",
              "      <td>1.0</td>\n",
              "      <td>NaN</td>\n",
              "      <td>1.0</td>\n",
              "      <td>NaN</td>\n",
              "      <td>1.0</td>\n",
              "      <td>NaN</td>\n",
              "      <td>NaN</td>\n",
              "      <td>NaN</td>\n",
              "      <td>NaN</td>\n",
              "      <td>NaN</td>\n",
              "      <td>NaN</td>\n",
              "    </tr>\n",
              "    <tr>\n",
              "      <th>VPAS 6339 501</th>\n",
              "      <td>NaN</td>\n",
              "      <td>16.0</td>\n",
              "      <td>1.0</td>\n",
              "      <td>NaN</td>\n",
              "      <td>NaN</td>\n",
              "      <td>NaN</td>\n",
              "      <td>NaN</td>\n",
              "      <td>NaN</td>\n",
              "      <td>NaN</td>\n",
              "      <td>NaN</td>\n",
              "      <td>NaN</td>\n",
              "      <td>NaN</td>\n",
              "      <td>NaN</td>\n",
              "    </tr>\n",
              "    <tr>\n",
              "      <th>VPAS 6391 001</th>\n",
              "      <td>NaN</td>\n",
              "      <td>9.0</td>\n",
              "      <td>1.0</td>\n",
              "      <td>NaN</td>\n",
              "      <td>NaN</td>\n",
              "      <td>NaN</td>\n",
              "      <td>NaN</td>\n",
              "      <td>NaN</td>\n",
              "      <td>NaN</td>\n",
              "      <td>NaN</td>\n",
              "      <td>NaN</td>\n",
              "      <td>NaN</td>\n",
              "      <td>NaN</td>\n",
              "    </tr>\n",
              "    <tr>\n",
              "      <th>VPAS 6394 001</th>\n",
              "      <td>NaN</td>\n",
              "      <td>11.0</td>\n",
              "      <td>NaN</td>\n",
              "      <td>NaN</td>\n",
              "      <td>NaN</td>\n",
              "      <td>NaN</td>\n",
              "      <td>NaN</td>\n",
              "      <td>NaN</td>\n",
              "      <td>NaN</td>\n",
              "      <td>NaN</td>\n",
              "      <td>NaN</td>\n",
              "      <td>NaN</td>\n",
              "      <td>NaN</td>\n",
              "    </tr>\n",
              "    <tr>\n",
              "      <th>VPAS 7360 001</th>\n",
              "      <td>NaN</td>\n",
              "      <td>9.0</td>\n",
              "      <td>4.0</td>\n",
              "      <td>NaN</td>\n",
              "      <td>NaN</td>\n",
              "      <td>NaN</td>\n",
              "      <td>NaN</td>\n",
              "      <td>NaN</td>\n",
              "      <td>NaN</td>\n",
              "      <td>NaN</td>\n",
              "      <td>NaN</td>\n",
              "      <td>NaN</td>\n",
              "      <td>NaN</td>\n",
              "    </tr>\n",
              "  </tbody>\n",
              "</table>\n",
              "<p>2942 rows × 13 columns</p>\n",
              "</div>"
            ],
            "text/plain": [
              "                 A+     A   A-    B+     B   B-   C+    C   C-   D+   D   D-  \\\n",
              "course                                                                         \n",
              "ACCT 2301 001  17.0   7.0  3.0  14.0   7.0  3.0  2.0  4.0  1.0  1.0 NaN  NaN   \n",
              "ACCT 2301 002  10.0   7.0  5.0   6.0   4.0  4.0  4.0  1.0  7.0  3.0 NaN  NaN   \n",
              "ACCT 2301 003   8.0  11.0  8.0   4.0  11.0  5.0  4.0  4.0  NaN  NaN NaN  NaN   \n",
              "ACCT 2301 004   4.0  10.0  7.0  17.0   5.0  3.0  6.0  4.0  1.0  NaN NaN  1.0   \n",
              "ACCT 2301 005  21.0  11.0  4.0  13.0   3.0  3.0  2.0  3.0  1.0  1.0 NaN  1.0   \n",
              "...             ...   ...  ...   ...   ...  ...  ...  ...  ...  ...  ..  ...   \n",
              "VPAS 6336 501   NaN   6.0  1.0   NaN   1.0  NaN  1.0  NaN  NaN  NaN NaN  NaN   \n",
              "VPAS 6339 501   NaN  16.0  1.0   NaN   NaN  NaN  NaN  NaN  NaN  NaN NaN  NaN   \n",
              "VPAS 6391 001   NaN   9.0  1.0   NaN   NaN  NaN  NaN  NaN  NaN  NaN NaN  NaN   \n",
              "VPAS 6394 001   NaN  11.0  NaN   NaN   NaN  NaN  NaN  NaN  NaN  NaN NaN  NaN   \n",
              "VPAS 7360 001   NaN   9.0  4.0   NaN   NaN  NaN  NaN  NaN  NaN  NaN NaN  NaN   \n",
              "\n",
              "                 F  \n",
              "course              \n",
              "ACCT 2301 001  1.0  \n",
              "ACCT 2301 002  5.0  \n",
              "ACCT 2301 003  3.0  \n",
              "ACCT 2301 004  1.0  \n",
              "ACCT 2301 005  NaN  \n",
              "...            ...  \n",
              "VPAS 6336 501  NaN  \n",
              "VPAS 6339 501  NaN  \n",
              "VPAS 6391 001  NaN  \n",
              "VPAS 6394 001  NaN  \n",
              "VPAS 7360 001  NaN  \n",
              "\n",
              "[2942 rows x 13 columns]"
            ]
          },
          "execution_count": 8,
          "metadata": {},
          "output_type": "execute_result"
        }
      ],
      "source": [
        "# combine subject, catalog, and section columns into one column\n",
        "df['course'] = df['Subject'] + ' ' + df['Catalog Nbr'] + ' ' + df['Section']\n",
        "# remove the subject, catalog, and section columns, since they are not needed anymore\n",
        "df = df.drop(columns=['Subject', 'Catalog Nbr', 'Section'])\n",
        "df = df.drop(columns=['P', 'CR', 'NC', 'I', 'W', 'Instructor 1', 'Instructor 2', 'Instructor 3', 'Instructor 4', 'Instructor 5', 'Instructor 6'])\n",
        "# drop columns that are NaN\n",
        "# df = df.dropna(axis=1, how='all')\n",
        "# set the course column as the index\n",
        "df = df.set_index('course')\n",
        "df"
      ]
    },
    {
      "cell_type": "code",
      "execution_count": null,
      "metadata": {},
      "outputs": [
        {
          "data": {
            "image/png": "[encoded data removed]",
            "text/plain": [
              "<Figure size 640x480 with 1 Axes>"
            ]
          },
          "metadata": {},
          "output_type": "display_data"
        }
      ],
      "source": [
        "# plot the first course and its grade distribution\n",
        "df.iloc[0].plot.bar()\n",
        "# rotate to be more readable\n",
        "plt.xticks(rotation=0)\n",
        "plt.ylabel('Number of Students')\n",
        "plt.title('Grade Distribution for ' + df.index[0])\n",
        "plt.show()"
      ]
    },
    {
      "cell_type": "markdown",
      "metadata": {
        "id": "enWBzQaHyP6x"
      },
      "source": [
        "# New Section"
      ]
    },
    {
      "cell_type": "markdown",
      "metadata": {
        "id": "QrRQknDgyM3I"
      },
      "source": [
        "# New Section"
      ]
    }
  ],
  "metadata": {
    "colab": {
      "provenance": []
    },
    "kernelspec": {
      "display_name": "Python 3",
      "name": "python3"
    },
    "language_info": {
      "codemirror_mode": {
        "name": "ipython",
        "version": 3
      },
      "file_extension": ".py",
      "mimetype": "text/x-python",
      "name": "python",
      "nbconvert_exporter": "python",
      "pygments_lexer": "ipython3",
      "version": "3.10.9"
    }
  },
  "nbformat": 4,
  "nbformat_minor": 0
}
